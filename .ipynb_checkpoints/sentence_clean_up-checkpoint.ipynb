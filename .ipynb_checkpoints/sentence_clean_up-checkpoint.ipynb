{
 "cells": [
  {
   "cell_type": "markdown",
   "metadata": {},
   "source": [
    "### Clean up the negative-replaced-sentences.\n",
    "trimm the sentence by only taking the words between the first and the last occurance of 'chem'"
   ]
  },
  {
   "cell_type": "code",
   "execution_count": null,
   "metadata": {
    "collapsed": false
   },
   "outputs": [
    {
     "name": "stdout",
     "output_type": "stream",
     "text": [
      "[]\n",
      "\n",
      "[]\n",
      "\n",
      "['barium', 'sulfate', 'one', 'insoluble', 'salts', 'sulfate']\n",
      "\n",
      "[]\n",
      "\n",
      "[]\n",
      "\n",
      "['modern', 'neatsfoot', 'oil', 'still', 'made', 'cattle', 'based', 'products', 'sometimes', 'criticized', 'tendency', 'speed', 'oxidation', 'leather']\n"
     ]
    }
   ],
   "source": [
    "import sys\n",
    "sys.path.append(\"./packages\") # append to system path\n",
    "import data_preparation as dp\n",
    "\n",
    "import csv\n",
    "\n",
    "trimmed_sentence = \n",
    "with open('../data/identified_chemical_negative.csv','rb') as myfile:\n",
    "    thisReader = csv.reader(myfile)\n",
    "    for eachLine in thisReader:\n",
    "        this_token = _tokenize_sentence(eachLine)\n",
    "        this_trimmed_token = _trimming(this_token, buffer = 8)\n",
    "        "
   ]
  },
  {
   "cell_type": "code",
   "execution_count": null,
   "metadata": {
    "collapsed": true
   },
   "outputs": [],
   "source": []
  }
 ],
 "metadata": {
  "anaconda-cloud": {},
  "kernelspec": {
   "display_name": "Python [cs273]",
   "language": "python",
   "name": "Python [cs273]"
  },
  "language_info": {
   "codemirror_mode": {
    "name": "ipython",
    "version": 2
   },
   "file_extension": ".py",
   "mimetype": "text/x-python",
   "name": "python",
   "nbconvert_exporter": "python",
   "pygments_lexer": "ipython2",
   "version": "2.7.12"
  }
 },
 "nbformat": 4,
 "nbformat_minor": 1
}
